{
 "cells": [
  {
   "cell_type": "code",
   "execution_count": null,
   "id": "4f731bb2-c670-4502-b62c-bb74e370195e",
   "metadata": {},
   "outputs": [],
   "source": [
    "# %pip install pandas\n",
    "# %pip install numpy\n",
    "# %pip install networkx\n",
    "# %pip install scikit-learn"
   ]
  },
  {
   "cell_type": "code",
   "execution_count": 2,
   "id": "0c880756-265e-4fce-b1b4-01ad0189dceb",
   "metadata": {
    "editable": true,
    "slideshow": {
     "slide_type": ""
    },
    "tags": []
   },
   "outputs": [],
   "source": [
    "import os\n",
    "import pandas as pd\n",
    "import numpy as np"
   ]
  },
  {
   "cell_type": "code",
   "execution_count": 3,
   "id": "1acd933b-5d87-40e8-920e-e8ac9c12859d",
   "metadata": {},
   "outputs": [],
   "source": [
    "from coordinatedActivity.coRetweet import *"
   ]
  },
  {
   "cell_type": "code",
   "execution_count": 10,
   "id": "a1a67d30-9bf8-494e-b986-2406775b1757",
   "metadata": {},
   "outputs": [],
   "source": [
    "root_dir = \"/project/ll_774_951/InfoOpsNationwiseDriverControl\"\n",
    "countries_dir = os.listdir(\"/project/ll_774_951/InfoOpsNationwiseDriverControl\")"
   ]
  },
  {
   "cell_type": "code",
   "execution_count": 5,
   "id": "083f3e65-7601-405a-8183-7d28d5dcfce8",
   "metadata": {},
   "outputs": [
    {
     "name": "stdout",
     "output_type": "stream",
     "text": [
      "['qatar', 'ghana', 'tanzania', 'mexico', 'venezuela_set2', 'spain', 'ecuador', 'catalonia', 'egypt', 'armenia', 'china', 'venezuela', 'cuba', 'uganda', 'turkey', 'uae', 'russia', 'bangladesh', 'thailand', 'iran']\n"
     ]
    }
   ],
   "source": [
    "print(countries_dir)"
   ]
  },
  {
   "cell_type": "code",
   "execution_count": 6,
   "id": "c5479434-aeb9-4598-8788-f91b7162f569",
   "metadata": {},
   "outputs": [],
   "source": [
    "if(os.path.isdir(\"cache\") == False):\n",
    "    os.mkdir(\"./cache\")"
   ]
  },
  {
   "cell_type": "code",
   "execution_count": 7,
   "id": "6b6a6a49-8bca-4075-958f-418e0ef836fe",
   "metadata": {},
   "outputs": [],
   "source": [
    "import gzip\n",
    "\n",
    "def open_gz_csv(file_dir):\n",
    "    with gzip.open(file_dir) as f:\n",
    "        df = pd.read_csv(f,low_memory=False)\n",
    "    return df\n",
    "\n",
    "def open_gz_jsonl(file_dir):\n",
    "    with gzip.open(file_dir,\"rb\") as f:\n",
    "        d = f.read()\n",
    "    \n",
    "        data = [json.loads(line.decode().strip()) for line in d]\n",
    "    df = pd.DataFrame(data)\n",
    "    print(df.head(3))\n",
    "    return df"
   ]
  },
  {
   "cell_type": "code",
   "execution_count": 11,
   "id": "71b68b48-9af8-48a0-9fd9-59329ff44ed9",
   "metadata": {
    "editable": true,
    "slideshow": {
     "slide_type": ""
    },
    "tags": []
   },
   "outputs": [
    {
     "name": "stdout",
     "output_type": "stream",
     "text": [
      "qatar\n",
      "ghana\n",
      "tanzania\n",
      "mexico\n",
      "venezuela_set2\n",
      "spain\n",
      "ecuador\n",
      "catalonia\n",
      "egypt\n",
      "armenia\n",
      "china\n",
      "venezuela\n",
      "cuba\n",
      "uganda\n",
      "turkey\n",
      "uae\n",
      "russia\n",
      "bangladesh\n",
      "thailand\n",
      "iran\n"
     ]
    }
   ],
   "source": [
    "import json\n",
    "\n",
    "# faulty_countries = [\"venezuela_set2\",\"egypt\"]\n",
    "# countries_dir = list(set(countries_dir).difference(set(faulty_countries)))\n",
    "for country in countries_dir:\n",
    "    print(country)\n",
    "    files_dir = os.listdir(os.path.join(root_dir,country))\n",
    "\n",
    "    ## Country File Names Check\n",
    "    control_check = list(filter(lambda x:\"control_driver_tweets\" in x,files_dir))\n",
    "    treated_check = list(filter(lambda x:\"tweets_csv_unhashed\" in x,files_dir))\n",
    "    \n",
    "    if(len(control_check) >= 1 and len(treated_check) >= 1):\n",
    "        dataset_dirs.append(os.path.join(root_dir,country,treated_check[0]))\n",
    "        dataset_dirs.append(os.path.join(root_dir,country,control_check[0]))"
   ]
  },
  {
   "cell_type": "code",
   "execution_count": 12,
   "id": "f24e5f7d-19b0-475f-ac14-d474797ad92f",
   "metadata": {},
   "outputs": [
    {
     "name": "stdout",
     "output_type": "stream",
     "text": [
      "['/project/ll_774_951/InfoOpsNationwiseDriverControl/ecuador/ecuador_082019_tweets_csv_unhashed.csv.gz', '/project/ll_774_951/InfoOpsNationwiseDriverControl/ecuador/control_driver_tweets_ecuador_082019.jsonl.gz', '/project/ll_774_951/InfoOpsNationwiseDriverControl/ecuador/ecuador_082019_tweets_csv_unhashed.csv.gz', '/project/ll_774_951/InfoOpsNationwiseDriverControl/ecuador/control_driver_tweets_ecuador_082019.jsonl.gz', '/project/ll_774_951/InfoOpsNationwiseDriverControl/qatar/qatar_082020_tweets_csv_unhashed.csv', '/project/ll_774_951/InfoOpsNationwiseDriverControl/qatar/control_driver_tweets_qatar_082020.jsonl.gz', '/project/ll_774_951/InfoOpsNationwiseDriverControl/ghana/unhashed_2020_03_ghana_nigeria_032020_tweets_csv_unhashed.csv.gz', '/project/ll_774_951/InfoOpsNationwiseDriverControl/ghana/control_driver_tweets_ghana_nigeria_032020.jsonl.gz', '/project/ll_774_951/InfoOpsNationwiseDriverControl/spain/spain_082019_tweets_csv_unhashed.csv.gz', '/project/ll_774_951/InfoOpsNationwiseDriverControl/spain/control_driver_tweets_spain_082019.jsonl.gz', '/project/ll_774_951/InfoOpsNationwiseDriverControl/ecuador/ecuador_082019_tweets_csv_unhashed.csv.gz', '/project/ll_774_951/InfoOpsNationwiseDriverControl/ecuador/control_driver_tweets_ecuador_082019.jsonl.gz', '/project/ll_774_951/InfoOpsNationwiseDriverControl/catalonia/catalonia_201906_1_tweets_csv_unhashed.csv.gz', '/project/ll_774_951/InfoOpsNationwiseDriverControl/catalonia/control_driver_tweets_catalonia_201906_1.jsonl.gz', '/project/ll_774_951/InfoOpsNationwiseDriverControl/egypt/egypt_022020_tweets_csv_unhashed.csv.gz', '/project/ll_774_951/InfoOpsNationwiseDriverControl/egypt/control_driver_tweets_egypt_uae_082019.jsonl.gz', '/project/ll_774_951/InfoOpsNationwiseDriverControl/armenia/unhashed_2020_12_armenia_202012_armenia_202012_tweets_csv_unhashed.csv.gz', '/project/ll_774_951/InfoOpsNationwiseDriverControl/armenia/control_driver_tweets_armenia_202012.jsonl.gz', '/project/ll_774_951/InfoOpsNationwiseDriverControl/china/CNCC_0621_tweets_csv_unhashed_2018.csv', '/project/ll_774_951/InfoOpsNationwiseDriverControl/china/control_driver_tweets_082019_2.jsonl.gz', '/project/ll_774_951/InfoOpsNationwiseDriverControl/venezuela/venezuela_201901_1_tweets_csv_unhashed_2.csv.gz', '/project/ll_774_951/InfoOpsNationwiseDriverControl/venezuela/control_driver_tweets_venezuela_201901_1.jsonl.gz', '/project/ll_774_951/InfoOpsNationwiseDriverControl/cuba/cuba_082020_tweets_csv_unhashed.csv.gz', '/project/ll_774_951/InfoOpsNationwiseDriverControl/cuba/control_driver_tweets_cuba_082020.jsonl.gz', '/project/ll_774_951/InfoOpsNationwiseDriverControl/uae/egypt_uae_082019_tweets_csv_unhashed.csv.gz', '/project/ll_774_951/InfoOpsNationwiseDriverControl/uae/control_driver_tweets_uae_082019.jsonl.gz', '/project/ll_774_951/InfoOpsNationwiseDriverControl/russia/RNA_0621_tweets_csv_unhashed_2013.csv', '/project/ll_774_951/InfoOpsNationwiseDriverControl/russia/control_driver_tweets_ira.jsonl.gz', '/project/ll_774_951/InfoOpsNationwiseDriverControl/bangladesh/bangladesh_linked_tweets_csv_unhashed.csv.gz', '/project/ll_774_951/InfoOpsNationwiseDriverControl/bangladesh/control_driver_tweets_bangladesh_201901_1.jsonl.gz', '/project/ll_774_951/InfoOpsNationwiseDriverControl/thailand/thailand_092020_tweets_csv_unhashed.csv', '/project/ll_774_951/InfoOpsNationwiseDriverControl/thailand/control_driver_tweets_thailand_092020.jsonl.gz', '/project/ll_774_951/InfoOpsNationwiseDriverControl/iran/iran_092020_tweets_csv_unhashed.csv', '/project/ll_774_951/InfoOpsNationwiseDriverControl/iran/control_driver_tweets_iran_201906_1.jsonl.gz']\n"
     ]
    }
   ],
   "source": [
    "print(dataset_dirs)"
   ]
  },
  {
   "cell_type": "code",
   "execution_count": 13,
   "id": "5f2106d2-2370-46a9-bf04-008642e3672d",
   "metadata": {},
   "outputs": [],
   "source": [
    "def GenerateDatasets(datasetsPaths, outputDir):\n",
    "    for file in datasetsPaths:\n",
    "        if 'control' in file:\n",
    "            if file[-2:] == 'gz':\n",
    "                try:\n",
    "                    with gzip.open(file) as f:\n",
    "                        control = pd.concat([control, get_negative_data(pd.read_json(f, lines =True)[['id', 'full_text', 'lang', 'user', 'created_at']])])\n",
    "                except:\n",
    "                    with gzip.open(file) as f:\n",
    "                        control = get_negative_data(pd.read_json(f, lines =True)[['id', 'full_text', 'lang', 'user', 'created_at']])\n",
    "            else:\n",
    "                try:\n",
    "                    with open(file) as f:\n",
    "                        control = pd.concat([control, get_negative_data(pd.read_json(f, lines =True)[['id', 'full_text', 'lang', 'user', 'created_at']])])\n",
    "                except:\n",
    "                    with open(file) as f:\n",
    "                        control = get_negative_data(pd.read_json(f, lines =True)[['id', 'full_text', 'lang', 'user', 'created_at']])\n",
    "        else:\n",
    "            if file[-2:] == 'gz':\n",
    "                try:\n",
    "                    with gzip.open(file) as f:\n",
    "                        treated = pd.concat([treated, get_positive_data(pd.read_csv(f))])\n",
    "                except:\n",
    "                    with gzip.open(file) as f:\n",
    "                        treated = get_positive_data(pd.read_csv(f))\n",
    "            else:\n",
    "                try:\n",
    "                    with open(file) as f:\n",
    "                        treated = pd.concat([treated, get_positive_data(pd.read_csv(f))])\n",
    "                except:\n",
    "                    with open(file) as f:\n",
    "                        treated = get_positive_data(pd.read_csv(f))\n",
    "    \n",
    "            \n",
    "    pos_en_df_all = preprocess_text(treated)\n",
    "    del treated\n",
    "    neg_en_df_all = preprocess_text(control)\n",
    "    del control\n",
    "    \n",
    "    pos_en_df_all['tweet_text']  = pos_en_df_all['tweet_text'].replace(',', '')\n",
    "    neg_en_df_all['tweet_text']  = neg_en_df_all['tweet_text'].replace(',', '')\n",
    "    \n",
    "    pos_en_df_all['clean_tweet'] = pos_en_df_all['tweet_text'].astype(str).apply(lambda x: msg_clean(x))\n",
    "    neg_en_df_all['clean_tweet'] = neg_en_df_all['tweet_text'].astype(str).apply(lambda x: msg_clean(x))\n",
    "    \n",
    "    pos_en_df_all = pos_en_df_all[pos_en_df_all['clean_tweet'].apply(lambda x: len(x.split(' ')) > 4)]\n",
    "    neg_en_df_all = neg_en_df_all[neg_en_df_all['clean_tweet'].apply(lambda x: len(x.split(' ')) > 4)]\n",
    "\n",
    "    pos_en_df_all['tweet_time'] = pos_en_df_all['tweetid'].apply(lambda x: get_tweet_timestamp(x))\n",
    "    neg_en_df_all['tweet_time'] = neg_en_df_all['tweetid'].apply(lambda x: get_tweet_timestamp(x))\n",
    "\n",
    "    pos_en_df_all.to_csv(\"/scratch1/ashwinba/consolidated/treated_consolidated.csv\")\n",
    "    neg_en_df_all.to_csv(\"/scratch1/ashwinba/consolidated/control_consolidated.csv\")"
   ]
  },
  {
   "cell_type": "code",
   "execution_count": null,
   "id": "8385019e-2208-42d0-98f7-c7eee180f057",
   "metadata": {},
   "outputs": [],
   "source": []
  }
 ],
 "metadata": {
  "kernelspec": {
   "display_name": "Python 3 (ipykernel)",
   "language": "python",
   "name": "python3"
  },
  "language_info": {
   "codemirror_mode": {
    "name": "ipython",
    "version": 3
   },
   "file_extension": ".py",
   "mimetype": "text/x-python",
   "name": "python",
   "nbconvert_exporter": "python",
   "pygments_lexer": "ipython3",
   "version": "3.11.4"
  }
 },
 "nbformat": 4,
 "nbformat_minor": 5
}
